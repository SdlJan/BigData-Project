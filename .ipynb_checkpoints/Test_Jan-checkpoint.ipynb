{
 "cells": [
  {
   "cell_type": "code",
   "execution_count": 65,
   "metadata": {},
   "outputs": [],
   "source": [
    "from pprint import pprint \n",
    "from stackapi import StackAPI\n",
    "import json "
   ]
  },
  {
   "cell_type": "code",
   "execution_count": 66,
   "metadata": {},
   "outputs": [],
   "source": [
    "Site = StackAPI('stackoverflow')\n",
    "\n",
    "#get comments in json \n",
    "comments = Site.fetch('comments')\n",
    "#pprint(comments)"
   ]
  },
  {
   "cell_type": "code",
   "execution_count": 67,
   "metadata": {},
   "outputs": [],
   "source": [
    "#get tags in json format\n",
    "tags = SITE.fetch('tags')\n",
    "#pprint(tags)"
   ]
  },
  {
   "cell_type": "code",
   "execution_count": 75,
   "metadata": {},
   "outputs": [
    {
     "name": "stdout",
     "output_type": "stream",
     "text": [
      "1803550 javascript\n",
      "1543718 java\n",
      "1308531 c#\n",
      "1281026 php\n",
      "1191522 android\n",
      "1162713 python\n",
      "952696 jquery\n",
      "820408 html\n",
      "616243 c++\n",
      "597519 ios\n",
      "584430 css\n",
      "559381 mysql\n",
      "490003 sql\n",
      "345609 asp.net\n",
      "305821 ruby-on-rails\n",
      "302500 c\n",
      "294554 arrays\n",
      "287901 r\n",
      "287402 objective-c\n",
      "282816 .net\n",
      "273385 node.js\n",
      "261279 json\n",
      "259248 sql-server\n",
      "257989 angularjs\n",
      "229042 swift\n",
      "219882 iphone\n",
      "206718 regex\n",
      "204223 ruby\n",
      "198936 ajax\n",
      "196986 django\n",
      "193561 excel\n",
      "182818 xml\n",
      "180212 asp.net-mvc\n",
      "175641 linux\n",
      "164772 angular\n",
      "158706 python-3.x\n",
      "155845 database\n",
      "150813 spring\n",
      "149156 wpf\n",
      "148931 wordpress\n",
      "143355 vba\n",
      "139035 string\n",
      "136451 reactjs\n",
      "132037 xcode\n",
      "129654 windows\n",
      "123898 vb.net\n",
      "120367 html5\n",
      "116557 eclipse\n",
      "115198 multithreading\n",
      "114730 laravel\n"
     ]
    }
   ],
   "source": [
    "#for keys, values in tags.items():\n",
    "    #print(keys['name'], values['count'])\n",
    "    #print(keys)\n",
    "\n",
    "for elem in tags['items'][:50]:\n",
    "    print_tags = print(elem.get('count'), elem.get('name'))\n"
   ]
  },
  {
   "cell_type": "code",
   "execution_count": null,
   "metadata": {},
   "outputs": [],
   "source": [
    "#convert json into str\n",
    "data_str = json.dumps(comments)\n",
    "type(data_dict)"
   ]
  },
  {
   "cell_type": "code",
   "execution_count": 23,
   "metadata": {},
   "outputs": [
    {
     "data": {
      "text/plain": [
       "dict"
      ]
     },
     "execution_count": 23,
     "metadata": {},
     "output_type": "execute_result"
    }
   ],
   "source": [
    "#convert str into dict\n",
    "data_dict = json.loads(data)\n",
    "type(data_dict)"
   ]
  },
  {
   "cell_type": "code",
   "execution_count": null,
   "metadata": {},
   "outputs": [],
   "source": []
  }
 ],
 "metadata": {
  "kernelspec": {
   "display_name": "Python 3",
   "language": "python",
   "name": "python3"
  },
  "language_info": {
   "codemirror_mode": {
    "name": "ipython",
    "version": 3
   },
   "file_extension": ".py",
   "mimetype": "text/x-python",
   "name": "python",
   "nbconvert_exporter": "python",
   "pygments_lexer": "ipython3",
   "version": "3.7.0"
  }
 },
 "nbformat": 4,
 "nbformat_minor": 2
}
